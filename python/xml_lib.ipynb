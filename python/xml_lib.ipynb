{
 "cells": [
  {
   "cell_type": "code",
   "execution_count": 1,
   "metadata": {},
   "outputs": [],
   "source": [
    "from utils import request_lib"
   ]
  },
  {
   "cell_type": "code",
   "execution_count": 3,
   "metadata": {},
   "outputs": [],
   "source": [
    "r=request_lib.RequestLib('https://raw.githubusercontent.com/InteractiveAdvertisingBureau/VAST_Samples/master/VAST%203.0%20Samples/Inline_Companion_Tag-test.xml')"
   ]
  },
  {
   "cell_type": "code",
   "execution_count": 8,
   "metadata": {},
   "outputs": [
    {
     "name": "stdout",
     "output_type": "stream",
     "text": [
      "MainThread | 2020-06-28 01:42:34,068 | default_logger | INFO | REST_REQUEST +++++++++++++++++++++++++++++++++++++++++++++++++++++\n",
      "MainThread | 2020-06-28 01:42:34,068 | default_logger | INFO | REST_REQUEST | Sending API Request..!!\n",
      "MainThread | 2020-06-28 01:42:34,068 | default_logger | INFO | REST_REQUEST | Request method: GET\n",
      "MainThread | 2020-06-28 01:42:34,068 | default_logger | INFO | REST_REQUEST | Request header: {}\n",
      "MainThread | 2020-06-28 01:42:34,068 | default_logger | INFO | REST_REQUEST | Request URL: https://raw.githubusercontent.com/InteractiveAdvertisingBureau/VAST_Samples/master/VAST%203.0%20Samples/Inline_Companion_Tag-test.xml\n",
      "MainThread | 2020-06-28 01:42:34,068 | default_logger | INFO | REST_REQUEST | Request Params: {}\n",
      "MainThread | 2020-06-28 01:42:34,068 | default_logger | INFO | REST_REQUEST | Request auth: ()\n",
      "MainThread | 2020-06-28 01:42:34,068 | default_logger | INFO | REST_REQUEST | Request Cookies: {}\n",
      "MainThread | 2020-06-28 01:42:34,068 | default_logger | INFO | REST_REQUEST | Request payload: {}\n",
      "MainThread | 2020-06-28 01:42:34,068 | default_logger | INFO | REST_REQUEST | Request Files: {}\n",
      "MainThread | 2020-06-28 01:42:34,068 | default_logger | INFO | REST_REQUEST +++++++++++++++++++++++++++++++++++++++++++++++++++++\n",
      "MainThread | 2020-06-28 01:42:35,171 | default_logger | INFO | REST_REQUEST +++++++++++++++++++++++++++++++++++++++++++++++++++++\n",
      "MainThread | 2020-06-28 01:42:35,171 | default_logger | INFO | REST_REQUEST | success..!!\n"
     ]
    },
    {
     "data": {
      "text/plain": [
       "(200,\n",
       " {'Connection': 'keep-alive', 'Content-Length': '1087', 'Content-Type': 'text/plain; charset=utf-8', 'Cache-Control': 'max-age=300', 'Content-Security-Policy': \"default-src 'none'; style-src 'unsafe-inline'; sandbox\", 'ETag': 'W/\"bafd7e87a97d4b6605c20601fa113c5a287a9aa0fcfc33988c770d75d93e2add\"', 'Strict-Transport-Security': 'max-age=31536000', 'X-Content-Type-Options': 'nosniff', 'X-Frame-Options': 'deny', 'X-XSS-Protection': '1; mode=block', 'Via': '1.1 varnish (Varnish/6.0), 1.1 varnish', 'Content-Encoding': 'gzip', 'X-GitHub-Request-Id': '6C56:54C3:C356:131EC:5EF7A1F3', 'Accept-Ranges': 'bytes', 'Date': 'Sat, 27 Jun 2020 20:12:34 GMT', 'X-Served-By': 'cache-bom4745-BOM', 'X-Cache': 'MISS, MISS', 'X-Cache-Hits': '0, 0', 'X-Timer': 'S1593288754.589698,VS0,VE419', 'Vary': 'Authorization,Accept-Encoding, Accept-Encoding', 'Access-Control-Allow-Origin': '*', 'X-Fastly-Request-ID': '561872c12e50353486de9533b61efe8b3dd550d2', 'Expires': 'Sat, 27 Jun 2020 20:17:34 GMT', 'Source-Age': '0'},\n",
       " b'<VAST version=\"3.0\">\\n    <Ad id=\"20004\">\\n        <InLine>\\n            <AdSystem version=\"4.0\">iabtechlab</AdSystem>\\n\\n            <AdTitle>\\n                <![CDATA[VAST 4.0 Pilot - Scenario 5]]>\\n            </AdTitle>\\n            <Description>\\n                <![CDATA[This is sample companion ad tag with Linear ad tag. This tag while showing video ad on the player, will show a companion ad beside the player where it can be fitted. At most 3 companion ads can be placed. Modify accordingly to see your own content.]]>\\n            </Description>\\n\\n            <Pricing model=\"cpm\" currency=\"USD\">\\n                <![CDATA[ 25.00 ]]>\\n            </Pricing>\\n\\n            <Error>http://example.com/error</Error>\\n            <Impression id=\"Impression-ID\">http://example.com/track/impression</Impression>\\n\\n            <Creatives>\\n                <Creative id=\"5480\" sequence=\"1\">\\n                    <CompanionAds>\\n                        <Companion id=\"1232\" width=\"300\" height=\"250\" assetWidth=\"250\" assetHeight=\"200\" expandedWidth=\"350\" expandedHeight=\"250\">\\n                               <StaticResource creativeType=\"image/png\">\\n                                <![CDATA[https://www.iab.com/wp-content/uploads/2014/09/iab-tech-lab-6-644x290.png]]>\\n                                </StaticResource>\\n                                <CompanionClickThrough>\\n                                    <![CDATA[https://iabtechlab.com]]>\\n                                </CompanionClickThrough>\\n                        </Companion>\\n                    </CompanionAds>\\n                </Creative>\\n                <Creative id=\"5480\" sequence=\"1\">\\n                    <Linear>\\n                        <Duration>00:00:16</Duration>\\n                        <TrackingEvents>\\n                            <Tracking event=\"start\">http://example.com/tracking/start</Tracking>\\n                            <Tracking event=\"firstQuartile\">http://example.com/tracking/firstQuartile</Tracking>\\n                            <Tracking event=\"midpoint\">http://example.com/tracking/midpoint</Tracking>\\n                            <Tracking event=\"thirdQuartile\">http://example.com/tracking/thirdQuartile</Tracking>\\n                            <Tracking event=\"complete\">http://example.com/tracking/complete</Tracking>\\n                            <Tracking event=\"progress\" offset=\"00:00:10\">http://example.com/tracking/progress-10</Tracking>\\n                        </TrackingEvents>\\n\\n                        <VideoClicks>\\n                            <ClickTracking id=\"blog\">\\n                                <![CDATA[https://iabtechlab.com]]>\\n                            </ClickTracking>\\n                        </VideoClicks>\\n\\n                        <MediaFiles>\\n                            <MediaFile id=\"5241\" delivery=\"progressive\" type=\"video/mp4\" bitrate=\"500\" width=\"400\" height=\"300\" minBitrate=\"360\" maxBitrate=\"1080\" scalable=\"1\" maintainAspectRatio=\"1\" codec=\"0\">\\n                                <![CDATA[https://iab-publicfiles.s3.amazonaws.com/vast/VAST-4.0-Short-Intro.mp4]]>\\n                            </MediaFile>\\n                        </MediaFiles>\\n                    </Linear>\\n                </Creative>\\n\\n            </Creatives>\\n            <Extensions>\\n                <Extension type=\"iab-Count\">\\n                    <total_available>\\n                        <![CDATA[ 2 ]]>\\n                    </total_available>\\n                </Extension>\\n            </Extensions>\\n        </InLine>\\n    </Ad>\\n</VAST>\\n')"
      ]
     },
     "execution_count": 8,
     "metadata": {},
     "output_type": "execute_result"
    },
    {
     "name": "stdout",
     "output_type": "stream",
     "text": [
      "MainThread | 2020-06-28 01:42:35,171 | default_logger | INFO | REST_REQUEST | Response status: 200\n",
      "MainThread | 2020-06-28 01:42:35,171 | default_logger | INFO | REST_REQUEST | Response header: {'Connection': 'keep-alive', 'Content-Length': '1087', 'Content-Type': 'text/plain; charset=utf-8', 'Cache-Control': 'max-age=300', 'Content-Security-Policy': \"default-src 'none'; style-src 'unsafe-inline'; sandbox\", 'ETag': 'W/\"bafd7e87a97d4b6605c20601fa113c5a287a9aa0fcfc33988c770d75d93e2add\"', 'Strict-Transport-Security': 'max-age=31536000', 'X-Content-Type-Options': 'nosniff', 'X-Frame-Options': 'deny', 'X-XSS-Protection': '1; mode=block', 'Via': '1.1 varnish (Varnish/6.0), 1.1 varnish', 'Content-Encoding': 'gzip', 'X-GitHub-Request-Id': '6C56:54C3:C356:131EC:5EF7A1F3', 'Accept-Ranges': 'bytes', 'Date': 'Sat, 27 Jun 2020 20:12:34 GMT', 'X-Served-By': 'cache-bom4745-BOM', 'X-Cache': 'MISS, MISS', 'X-Cache-Hits': '0, 0', 'X-Timer': 'S1593288754.589698,VS0,VE419', 'Vary': 'Authorization,Accept-Encoding, Accept-Encoding', 'Access-Control-Allow-Origin': '*', 'X-Fastly-Request-ID': '561872c12e50353486de9533b61efe8b3dd550d2', 'Expires': 'Sat, 27 Jun 2020 20:17:34 GMT', 'Source-Age': '0'}\n",
      "MainThread | 2020-06-28 01:42:35,171 | default_logger | INFO | REST_REQUEST | Response body: b'<VAST version=\"3.0\">\\n    <Ad id=\"20004\">\\n        <InLine>\\n            <AdSystem version=\"4.0\">iabtechlab</AdSystem>\\n\\n            <AdTitle>\\n                <![CDATA[VAST 4.0 Pilot - Scenario 5]]>\\n            </AdTitle>\\n            <Description>\\n                <![CDATA[This is sample companion ad tag with Linear ad tag. This tag while showing video ad on the player, will show a companion ad beside the player where it can be fitted. At most 3 companion ads can be placed. Modify accordingly to see your own content.]]>\\n            </Description>\\n\\n            <Pricing model=\"cpm\" currency=\"USD\">\\n                <![CDATA[ 25.00 ]]>\\n            </Pricing>\\n\\n            <Error>http://example.com/error</Error>\\n            <Impression id=\"Impression-ID\">http://example.com/track/impression</Impression>\\n\\n            <Creatives>\\n                <Creative id=\"5480\" sequence=\"1\">\\n                    <CompanionAds>\\n                        <Companion id=\"1232\" width=\"300\" height=\"250\" assetWidth=\"250\" assetHeight=\"200\" expandedWidth=\"350\" expandedHeight=\"250\">\\n                               <StaticResource creativeType=\"image/png\">\\n                                <![CDATA[https://www.iab.com/wp-content/uploads/2014/09/iab-tech-lab-6-644x290.png]]>\\n                                </StaticResource>\\n                                <CompanionClickThrough>\\n                                    <![CDATA[https://iabtechlab.com]]>\\n                                </CompanionClickThrough>\\n                        </Companion>\\n                    </CompanionAds>\\n                </Creative>\\n                <Creative id=\"5480\" sequence=\"1\">\\n                    <Linear>\\n                        <Duration>00:00:16</Duration>\\n                        <TrackingEvents>\\n                            <Tracking event=\"start\">http://example.com/tracking/start</Tracking>\\n                            <Tracking event=\"firstQuartile\">http://example.com/tracking/firstQuartile</Tracking>\\n                            <Tracking event=\"midpoint\">http://example.com/tracking/midpoint</Tracking>\\n                            <Tracking event=\"thirdQuartile\">http://example.com/tracking/thirdQuartile</Tracking>\\n                            <Tracking event=\"complete\">http://example.com/tracking/complete</Tracking>\\n                            <Tracking event=\"progress\" offset=\"00:00:10\">http://example.com/tracking/progress-10</Tracking>\\n                        </TrackingEvents>\\n\\n                        <VideoClicks>\\n                            <ClickTracking id=\"blog\">\\n                                <![CDATA[https://iabtechlab.com]]>\\n                            </ClickTracking>\\n                        </VideoClicks>\\n\\n                        <MediaFiles>\\n                            <MediaFile id=\"5241\" delivery=\"progressive\" type=\"video/mp4\" bitrate=\"500\" width=\"400\" height=\"300\" minBitrate=\"360\" maxBitrate=\"1080\" scalable=\"1\" maintainAspectRatio=\"1\" codec=\"0\">\\n                                <![CDATA[https://iab-publicfiles.s3.amazonaws.com/vast/VAST-4.0-Short-Intro.mp4]]>\\n                            </MediaFile>\\n                        </MediaFiles>\\n                    </Linear>\\n                </Creative>\\n\\n            </Creatives>\\n            <Extensions>\\n                <Extension type=\"iab-Count\">\\n                    <total_available>\\n                        <![CDATA[ 2 ]]>\\n                    </total_available>\\n                </Extension>\\n            </Extensions>\\n        </InLine>\\n    </Ad>\\n</VAST>\\n'\n",
      "MainThread | 2020-06-28 01:42:35,171 | default_logger | INFO | REST_REQUEST +++++++++++++++++++++++++++++++++++++++++++++++++++++\n"
     ]
    }
   ],
   "source": [
    "r.request()"
   ]
  },
  {
   "cell_type": "code",
   "execution_count": 1,
   "metadata": {},
   "outputs": [],
   "source": [
    "l=\"adt:13_c:22921_p:21,adt:13_c:22922_p:22,adt:13_c:22923_p:23,adt:13_c:22924_p:24\"\n"
   ]
  },
  {
   "cell_type": "code",
   "execution_count": 16,
   "metadata": {},
   "outputs": [],
   "source": [
    "base_list=l.split(',')"
   ]
  },
  {
   "cell_type": "code",
   "execution_count": 17,
   "metadata": {},
   "outputs": [
    {
     "data": {
      "text/plain": [
       "['adt:13_c:22921_p:21',\n",
       " 'adt:13_c:22922_p:22',\n",
       " 'adt:13_c:22923_p:23',\n",
       " 'adt:13_c:22924_p:24']"
      ]
     },
     "execution_count": 17,
     "metadata": {},
     "output_type": "execute_result"
    }
   ],
   "source": [
    "base_list"
   ]
  },
  {
   "cell_type": "code",
   "execution_count": 31,
   "metadata": {},
   "outputs": [],
   "source": [
    "from pprint import pprint as p\n",
    "\n"
   ]
  },
  {
   "cell_type": "code",
   "execution_count": 3,
   "metadata": {},
   "outputs": [
    {
     "name": "stdout",
     "output_type": "stream",
     "text": [
      "{'adt': '13'}\n",
      "{'c': '22921'}\n",
      "{'p': '21'}\n",
      "{'adt': '13'}\n",
      "{'c': '22922'}\n",
      "{'p': '22'}\n",
      "{'adt': '13'}\n",
      "{'c': '22923'}\n",
      "{'p': '23'}\n",
      "{'adt': '13'}\n",
      "{'c': '22924'}\n",
      "{'p': '24'}\n",
      "{'adt': '13', 'c': '22924', 'p': '24'}\n",
      "[{'adt': '13', 'c': '22921', 'p': '21'}, {'adt': '13', 'c': '22922', 'p': '22'}, {'adt': '13', 'c': '22923', 'p': '23'}, {'adt': '13', 'c': '22924', 'p': '24'}]\n"
     ]
    }
   ],
   "source": [
    "output_list=[]\n",
    "\n",
    "for item in l.split(','):\n",
    "    pair_list = item.split('_')\n",
    "    master_dict={}\n",
    "    #print(sub)\n",
    "    for pair in pair_list:\n",
    "        #d[k]=v \n",
    "        #print(v)\n",
    "        #print(v.split(':'))\n",
    "        list_of_sub_dict = pair.split(':')\n",
    "        #tem[0][key]=value\n",
    "        d={list_of_sub_dict[0]:list_of_sub_dict[1]}\n",
    "        print(d)\n",
    "        master_dict.update(d)\n",
    "    output_list.append(master_dict)\n",
    "print(master_dict)\n",
    "print(output_list)"
   ]
  },
  {
   "cell_type": "code",
   "execution_count": 5,
   "metadata": {},
   "outputs": [],
   "source": [
    "# list_of_sub_dict = pair.split(':')\n",
    "# d={list_of_sub_dict[0]:list_of_sub_dict[1]}\n",
    "\n",
    "#alternative method(short hand)\n",
    "l='adt:13'\n",
    "k,v=l.split(':')"
   ]
  },
  {
   "cell_type": "code",
   "execution_count": 6,
   "metadata": {},
   "outputs": [
    {
     "name": "stdout",
     "output_type": "stream",
     "text": [
      "adt 13\n"
     ]
    }
   ],
   "source": [
    "print(k,v)"
   ]
  },
  {
   "cell_type": "code",
   "execution_count": null,
   "metadata": {},
   "outputs": [],
   "source": [
    "for item in list_of_sub_dict :\n",
    "            #master_dict[k]=v\n",
    "            print(item)"
   ]
  },
  {
   "cell_type": "code",
   "execution_count": 22,
   "metadata": {},
   "outputs": [],
   "source": [
    "list_of_str=str(base_list).split('_')"
   ]
  },
  {
   "cell_type": "code",
   "execution_count": 32,
   "metadata": {},
   "outputs": [
    {
     "name": "stdout",
     "output_type": "stream",
     "text": [
      "[\"['adt:13\",\n",
      " 'c:22921',\n",
      " \"p:21', 'adt:13\",\n",
      " 'c:22922',\n",
      " \"p:22', 'adt:13\",\n",
      " 'c:22923',\n",
      " \"p:23', 'adt:13\",\n",
      " 'c:22924',\n",
      " \"p:24']\"]\n"
     ]
    }
   ],
   "source": [
    "p(list_of_str)"
   ]
  },
  {
   "cell_type": "code",
   "execution_count": 27,
   "metadata": {},
   "outputs": [
    {
     "name": "stdout",
     "output_type": "stream",
     "text": [
      "[\"['adt:13\"]\n",
      "['c:22921']\n",
      "[\"p:21'\", \" 'adt:13\"]\n",
      "['c:22922']\n",
      "[\"p:22'\", \" 'adt:13\"]\n",
      "['c:22923']\n",
      "[\"p:23'\", \" 'adt:13\"]\n",
      "['c:22924']\n",
      "[\"p:24']\"]\n"
     ]
    }
   ],
   "source": [
    "d={}\n",
    "for k,v in enumerate(list_of_str):\n",
    "    l=str(v).split(',')\n",
    "    print(l)\n",
    "    "
   ]
  },
  {
   "cell_type": "code",
   "execution_count": 8,
   "metadata": {},
   "outputs": [],
   "source": [
    "l=\"adt:13_c:22921_p:21,adt:13_c:22922_p:22,adt:13_c:22923_p:23,adt:13_c:22924_p:24\"\n"
   ]
  },
  {
   "cell_type": "code",
   "execution_count": 10,
   "metadata": {},
   "outputs": [
    {
     "name": "stdout",
     "output_type": "stream",
     "text": [
      "[{'adt': '13', 'c': '22921', 'p': '21'}, {'adt': '13', 'c': '22922', 'p': '22'}, {'adt': '13', 'c': '22923', 'p': '23'}, {'adt': '13', 'c': '22924', 'p': '24'}]\n"
     ]
    }
   ],
   "source": [
    "output_list=[]\n",
    "\n",
    "for item in l.split(','):\n",
    "    pair_list = item.split('_')\n",
    "    master_dict={}\n",
    "    for pair in pair_list:  \n",
    "        k,v = pair.split(':')\n",
    "        master_dict.update({k:v})\n",
    "    output_list.append(master_dict)\n",
    "#print(master_dict)\n",
    "print(output_list)"
   ]
  },
  {
   "cell_type": "code",
   "execution_count": 15,
   "metadata": {},
   "outputs": [],
   "source": [
    "def str_to_dict(input_str,kv_sep,pair_sep):\n",
    "    return dict(map(lambda item: item.split(kv_sep), input_str.split(pair_sep)))"
   ]
  },
  {
   "cell_type": "code",
   "execution_count": 16,
   "metadata": {},
   "outputs": [
    {
     "data": {
      "text/plain": [
       "{'adt': '13', 'c': '22921', 'p': '21'}"
      ]
     },
     "execution_count": 16,
     "metadata": {},
     "output_type": "execute_result"
    }
   ],
   "source": [
    "str_to_dict(\"adt:13_c:22921_p:21\",':','_')"
   ]
  },
  {
   "cell_type": "code",
   "execution_count": 18,
   "metadata": {},
   "outputs": [],
   "source": [
    "kv_sep=':'\n",
    "pair_sep='_'\n",
    "list_sep=','"
   ]
  },
  {
   "cell_type": "code",
   "execution_count": 23,
   "metadata": {},
   "outputs": [
    {
     "data": {
      "text/plain": [
       "[{'adt': '13', 'c': '22921', 'p': '21'},\n",
       " {'adt': '13', 'c': '22922', 'p': '22'},\n",
       " {'adt': '13', 'c': '22923', 'p': '23'},\n",
       " {'adt': '13', 'c': '22924', 'p': '24'}]"
      ]
     },
     "execution_count": 23,
     "metadata": {},
     "output_type": "execute_result"
    }
   ],
   "source": [
    "list(map(lambda sub_str: str_to_dict(sub_str,kv_sep,pair_sep),l.split(list_sep)))"
   ]
  },
  {
   "cell_type": "code",
   "execution_count": null,
   "metadata": {},
   "outputs": [],
   "source": []
  }
 ],
 "metadata": {
  "kernelspec": {
   "display_name": "Python 3",
   "language": "python",
   "name": "python3"
  },
  "language_info": {
   "codemirror_mode": {
    "name": "ipython",
    "version": 3
   },
   "file_extension": ".py",
   "mimetype": "text/x-python",
   "name": "python",
   "nbconvert_exporter": "python",
   "pygments_lexer": "ipython3",
   "version": "3.7.3"
  }
 },
 "nbformat": 4,
 "nbformat_minor": 2
}
