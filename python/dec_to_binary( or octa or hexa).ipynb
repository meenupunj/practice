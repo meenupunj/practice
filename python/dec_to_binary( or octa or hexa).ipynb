{
 "cells": [
  {
   "cell_type": "code",
   "execution_count": 1,
   "metadata": {},
   "outputs": [
    {
     "data": {
      "text/plain": [
       "24"
      ]
     },
     "execution_count": 1,
     "metadata": {},
     "output_type": "execute_result"
    }
   ],
   "source": [
    "int(24.1)"
   ]
  },
  {
   "cell_type": "code",
   "execution_count": 4,
   "metadata": {},
   "outputs": [
    {
     "data": {
      "text/plain": [
       "0"
      ]
     },
     "execution_count": 4,
     "metadata": {},
     "output_type": "execute_result"
    }
   ],
   "source": [
    "24%2"
   ]
  },
  {
   "cell_type": "code",
   "execution_count": null,
   "metadata": {},
   "outputs": [],
   "source": []
  },
  {
   "cell_type": "code",
   "execution_count": null,
   "metadata": {},
   "outputs": [],
   "source": [
    "#decimal to binary conversion\n",
    "given number is divided by 2 iteratively and remainders are printed in reverse order\n"
   ]
  },
  {
   "cell_type": "code",
   "execution_count": 68,
   "metadata": {},
   "outputs": [],
   "source": [
    "ls=[]\n",
    "def dec_to_binary(number):\n",
    "    if number>=1:\n",
    "        n=number//2\n",
    "        r=number%2\n",
    "        ls.append(r)\n",
    "        dec_to_binary(n)\n",
    "        \n",
    "    \n",
    "    else:\n",
    "        #print(r)\n",
    "        print(ls)\n",
    "        rev=ls[::-1]\n",
    "        \n",
    "        print(rev)\n",
    "\n",
    "    "
   ]
  },
  {
   "cell_type": "code",
   "execution_count": 69,
   "metadata": {},
   "outputs": [
    {
     "name": "stdout",
     "output_type": "stream",
     "text": [
      "[1, 1, 0, 0, 0, 1]\n",
      "[1, 0, 0, 0, 1, 1]\n"
     ]
    }
   ],
   "source": [
    "dec_to_binary(35)"
   ]
  },
  {
   "cell_type": "code",
   "execution_count": 67,
   "metadata": {},
   "outputs": [],
   "source": [
    "s=[1,2,3,4]"
   ]
  },
  {
   "cell_type": "code",
   "execution_count": 37,
   "metadata": {},
   "outputs": [
    {
     "data": {
      "text/plain": [
       "[4, 3, 2, 1]"
      ]
     },
     "execution_count": 37,
     "metadata": {},
     "output_type": "execute_result"
    }
   ],
   "source": [
    "s[::-1]"
   ]
  },
  {
   "cell_type": "code",
   "execution_count": 70,
   "metadata": {},
   "outputs": [],
   "source": [
    "ls=[]\n",
    "def dec_to_octal(number):\n",
    "    if number>=1:\n",
    "        n=number//8\n",
    "        r=number%8\n",
    "        ls.append(r)\n",
    "        dec_to_binary(n)\n",
    "        \n",
    "    \n",
    "    else:\n",
    "        #print(r)\n",
    "        print(ls)\n",
    "        rev=ls[::-1]\n",
    "        \n",
    "        print(rev)\n"
   ]
  },
  {
   "cell_type": "code",
   "execution_count": 71,
   "metadata": {},
   "outputs": [
    {
     "name": "stdout",
     "output_type": "stream",
     "text": [
      "[2, 0, 0, 1, 1]\n",
      "[1, 1, 0, 0, 2]\n"
     ]
    }
   ],
   "source": [
    "dec_to_octal(98)"
   ]
  },
  {
   "cell_type": "code",
   "execution_count": null,
   "metadata": {},
   "outputs": [],
   "source": []
  }
 ],
 "metadata": {
  "kernelspec": {
   "display_name": "Python 3",
   "language": "python",
   "name": "python3"
  },
  "language_info": {
   "codemirror_mode": {
    "name": "ipython",
    "version": 3
   },
   "file_extension": ".py",
   "mimetype": "text/x-python",
   "name": "python",
   "nbconvert_exporter": "python",
   "pygments_lexer": "ipython3",
   "version": "3.8.4"
  }
 },
 "nbformat": 4,
 "nbformat_minor": 2
}
