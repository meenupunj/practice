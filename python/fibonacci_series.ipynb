{
 "cells": [
  {
   "cell_type": "code",
   "execution_count": 34,
   "metadata": {},
   "outputs": [],
   "source": [
    "##### fibonacci series  with max value\n",
    "\n",
    "def fib(max):\n",
    "    i=1\n",
    "    f1=0\n",
    "    f2=1\n",
    "    f3=f1+f2\n",
    "    ls=[0,1]\n",
    "    while f3<=max:\n",
    "        ls.append(f3)\n",
    "        temp=f1\n",
    "        f1=f2\n",
    "        f2=f3\n",
    "        f3=f1+f2          \n",
    "        \n",
    "        \n",
    "    return ls\n",
    "        \n",
    "    \n",
    "        \n",
    "        "
   ]
  },
  {
   "cell_type": "code",
   "execution_count": 35,
   "metadata": {},
   "outputs": [
    {
     "data": {
      "text/plain": [
       "[0, 1, 1]"
      ]
     },
     "execution_count": 35,
     "metadata": {},
     "output_type": "execute_result"
    }
   ],
   "source": [
    "fib(1)"
   ]
  },
  {
   "cell_type": "code",
   "execution_count": null,
   "metadata": {},
   "outputs": [],
   "source": [
    "##### fibonacci series  with length of list\n",
    "\n",
    "def fib(length):\n",
    "    i=1\n",
    "    f1=0\n",
    "    f2=1\n",
    "    ls=[0,1]\n",
    "    while i<=length:\n",
    "        f3=f1+f2\n",
    "        f1=f2\n",
    "        f2=f3\n",
    "        i=i+1\n",
    "        ls.append(f3)\n",
    "    return ls\n",
    "        \n",
    "    \n",
    "        \n",
    "        "
   ]
  }
 ],
 "metadata": {
  "kernelspec": {
   "display_name": "Python 3",
   "language": "python",
   "name": "python3"
  },
  "language_info": {
   "codemirror_mode": {
    "name": "ipython",
    "version": 3
   },
   "file_extension": ".py",
   "mimetype": "text/x-python",
   "name": "python",
   "nbconvert_exporter": "python",
   "pygments_lexer": "ipython3",
   "version": "3.8.4"
  }
 },
 "nbformat": 4,
 "nbformat_minor": 2
}
