{
 "cells": [
  {
   "cell_type": "code",
   "execution_count": null,
   "metadata": {},
   "outputs": [],
   "source": [
    "##question\n",
    "create a list of dict from string - \"seat:11_adt:13_c:11111_p:15_sc:1_m:1+6+8_x:1_y:2_t:100_va:3_rt:2_prtcl:2_wrl:0,seat:11_adt:3_c:22222_p:5_sc:1_,seat:21_adt:3_c:33333_p:11_sc:1_api:3_did:interstial-app-deal\"\tcreate a list of dict from string - \"seat:11_adt:13_c:11111_p:15_sc:1_m:1+6+8_x:1_y:2_t:100_va:3_rt:2_prtcl:2_wrl:0,seat:11_adt:3_c:22222_p:5_sc:1_,seat:21_adt:3_c:33333_p:11_sc:1_api:3_did:interstial-app-deal\"\tcreate a list of dict from string - \"seat:11_adt:13_c:11111_p:15_sc:1_m:1+6+8_x:1_y:2_t:100_va:3_rt:2_prtcl:2_wrl:0,seat:11_adt:3_c:22222_p:5_sc:1_,seat:21_adt:3_c:33333_p:11_sc:1_api:3_did:interstial-app-deal\"\tcreate a list of dict from string - \"seat:11_adt:13_c:11111_p:15_sc:1_m:1+6+8_x:1_y:2_t:100_va:3_rt:2_prtcl:2_wrl:0,seat:11_adt:3_c:22222_p:5_sc:1_,seat:21_adt:3_c:33333_p:11_sc:1_api:3_did:interstial-app-deal\"\tcreate a list of dict from string - \"seat:11_adt:13_c:11111_p:15_sc:1_m:1+6+8_x:1_y:2_t:100_va:3_rt:2_prtcl:2_wrl:0,seat:11_adt:3_c:22222_p:5_sc:1_,seat:21_adt:3_c:33333_p:11_sc:1_api:3_did:interstial-app-deal\"\tcreate a list of dict from string - \"seat:11_adt:13_c:11111_p:15_sc:1_m:1+6+8_x:1_y:2_t:100_va:3_rt:2_prtcl:2_wrl:0,seat:11_adt:3_c:22222_p:5_sc:1_,seat:21_adt:3_c:33333_p:11_sc:1_api:3_did:interstial-app-deal\"\tcreate a list of dict from string - \"seat:11_adt:13_c:11111_p:15_sc:1_m:1+6+8_x:1_y:2_t:100_va:3_rt:2_prtcl:2_wrl:0,seat:11_adt:3_c:22222_p:5_sc:1_,seat:21_adt:3_c:33333_p:11_sc:1_api:3_did:interstial-app-deal\"\tcreate a list of dict from string - \"seat:11_adt:13_c:11111_p:15_sc:1_m:1+6+8_x:1_y:2_t:100_va:3_rt:2_prtcl:2_wrl:0,seat:11_adt:3_c:22222_p:5_sc:1_,seat:21_adt:3_c:33333_p:11_sc:1_api:3_did:interstial-app-deal\"\n"
   ]
  },
  {
   "cell_type": "code",
   "execution_count": 2,
   "metadata": {},
   "outputs": [],
   "source": [
    "test_str=\"seat:11_adt:13_c:11111_p:15_sc:1_m:1+6+8_x:1_y:2_t:100_va:3_rt:2_prtcl:2_wrl:0,seat:11_adt:3_c:22222_p:5_sc:1_,seat:21_adt:3_c:33333_p:11_sc:1_api:3_did:interstial-app-deal\""
   ]
  },
  {
   "cell_type": "code",
   "execution_count": 33,
   "metadata": {},
   "outputs": [
    {
     "data": {
      "text/plain": [
       "['seat:11_adt:13_c:11111_p:15_sc:1_m:1+6+8_x:1_y:2_t:100_va:3_rt:2_prtcl:2_wrl:0',\n",
       " 'seat:11_adt:3_c:22222_p:5_sc:1_',\n",
       " 'seat:21_adt:3_c:33333_p:11_sc:1_api:3_did:interstial-app-deal']"
      ]
     },
     "execution_count": 33,
     "metadata": {},
     "output_type": "execute_result"
    }
   ],
   "source": [
    "list_of_str = test_str.split(\",\")\n",
    "list_of_str\n"
   ]
  },
  {
   "cell_type": "code",
   "execution_count": 54,
   "metadata": {},
   "outputs": [
    {
     "name": "stdout",
     "output_type": "stream",
     "text": [
      "[{'seat': '11', 'adt': '13', 'c': '11111', 'p': '15', 'sc': '1', 'm': '1+6+8', 'x': '1', 'y': '2', 't': '100', 'va': '3', 'rt': '2', 'prtcl': '2', 'wrl': '0'}, {'seat': '11', 'adt': '3', 'c': '22222', 'p': '5', 'sc': '1'}, {'seat': '21', 'adt': '3', 'c': '33333', 'p': '11', 'sc': '1', 'api': '3', 'did': 'interstial-app-deal'}]\n"
     ]
    }
   ],
   "source": [
    "output_list=[]\n",
    "ls=[]\n",
    "\n",
    "for item in list_of_str :\n",
    "    pair_list=item.split(\"_\")\n",
    "    pair_list=filter(None,pair_list)\n",
    "    master_dict={}\n",
    "    for pair in pair_list:\n",
    "        #print(pair)\n",
    "        #print(pair.split(\":\"))\n",
    "        kv_pair=pair.split(\":\")\n",
    "        d={}\n",
    "        d={kv_pair[0]:kv_pair[1]}\n",
    "        #print(d)\n",
    "        master_dict.update(d)\n",
    "    output_list.append(master_dict)\n",
    "print(output_list)\n",
    "#     #master_dict.update(d)\n",
    "#     print(master_dict)\n",
    "#     output_list.append(master_dict)\n",
    "#     #print(output_list)\n",
    "# #print(output_list)\n",
    "    "
   ]
  },
  {
   "cell_type": "code",
   "execution_count": null,
   "metadata": {},
   "outputs": [],
   "source": [
    "create a list of dict from string - \"seat:11_adt:13_c:11111_p:15_sc:1_m:1+6+8_x:1_y:2_t:100_va:3_rt:2_prtcl:2_wrl:0,seat:11_adt:3_c:22222_p:5_sc:1_,seat:21_adt:3_c:33333_p:11_sc:1_api:3_did:interstial-app-deal\"\n"
   ]
  },
  {
   "cell_type": "code",
   "execution_count": 81,
   "metadata": {},
   "outputs": [],
   "source": [
    "st=\"seat:11_adt:13_c:11111_p:15_sc:1_m:1+6+8_x:1_y:2_t:100_va:3_rt:2_prtcl:2_wrl:0,seat:11_adt:3_c:22222_p:5_sc:1_,seat:21_adt:3_c:33333_p:11_sc:1_api:3_did:interstial-app-deal\"\n"
   ]
  },
  {
   "cell_type": "code",
   "execution_count": 59,
   "metadata": {},
   "outputs": [],
   "source": []
  },
  {
   "cell_type": "code",
   "execution_count": 60,
   "metadata": {},
   "outputs": [
    {
     "data": {
      "text/plain": [
       "['seat:11_adt:13_c:11111_p:15_sc:1_m:1+6+8_x:1_y:2_t:100_va:3_rt:2_prtcl:2_wrl:0',\n",
       " 'seat:11_adt:3_c:22222_p:5_sc:1_',\n",
       " 'seat:21_adt:3_c:33333_p:11_sc:1_api:3_did:interstial-app-deal']"
      ]
     },
     "execution_count": 60,
     "metadata": {},
     "output_type": "execute_result"
    }
   ],
   "source": [
    "\n",
    "ls"
   ]
  },
  {
   "cell_type": "code",
   "execution_count": 86,
   "metadata": {},
   "outputs": [
    {
     "name": "stdout",
     "output_type": "stream",
     "text": [
      "['seat', '11']\n",
      "['adt', '13']\n",
      "['c', '11111']\n",
      "['p', '15']\n",
      "['sc', '1']\n",
      "['m', '1+6+8']\n",
      "['x', '1']\n",
      "['y', '2']\n",
      "['t', '100']\n",
      "['va', '3']\n",
      "['rt', '2']\n",
      "['prtcl', '2']\n",
      "['wrl', '0']\n",
      "['seat', '11']\n",
      "['adt', '3']\n",
      "['c', '22222']\n",
      "['p', '5']\n",
      "['sc', '1']\n",
      "['']\n"
     ]
    },
    {
     "ename": "IndexError",
     "evalue": "list index out of range",
     "output_type": "error",
     "traceback": [
      "\u001b[1;31m---------------------------------------------------------------------------\u001b[0m",
      "\u001b[1;31mIndexError\u001b[0m                                Traceback (most recent call last)",
      "\u001b[1;32m<ipython-input-86-309e47970ec6>\u001b[0m in \u001b[0;36m<module>\u001b[1;34m\u001b[0m\n\u001b[0;32m     11\u001b[0m         \u001b[0mkv_pair\u001b[0m\u001b[1;33m=\u001b[0m \u001b[0mpair\u001b[0m\u001b[1;33m.\u001b[0m\u001b[0msplit\u001b[0m\u001b[1;33m(\u001b[0m\u001b[1;34m\":\"\u001b[0m\u001b[1;33m)\u001b[0m\u001b[1;33m\u001b[0m\u001b[1;33m\u001b[0m\u001b[0m\n\u001b[0;32m     12\u001b[0m         \u001b[0mprint\u001b[0m\u001b[1;33m(\u001b[0m\u001b[0mkv_pair\u001b[0m\u001b[1;33m)\u001b[0m\u001b[1;33m\u001b[0m\u001b[1;33m\u001b[0m\u001b[0m\n\u001b[1;32m---> 13\u001b[1;33m         \u001b[0md\u001b[0m\u001b[1;33m=\u001b[0m\u001b[1;33m{\u001b[0m\u001b[0mkv_pair\u001b[0m\u001b[1;33m[\u001b[0m\u001b[1;36m0\u001b[0m\u001b[1;33m]\u001b[0m\u001b[1;33m:\u001b[0m\u001b[0mkv_pair\u001b[0m\u001b[1;33m[\u001b[0m\u001b[1;36m1\u001b[0m\u001b[1;33m]\u001b[0m\u001b[1;33m}\u001b[0m\u001b[1;33m\u001b[0m\u001b[1;33m\u001b[0m\u001b[0m\n\u001b[0m\u001b[0;32m     14\u001b[0m         \u001b[1;31m#print(d)\u001b[0m\u001b[1;33m\u001b[0m\u001b[1;33m\u001b[0m\u001b[1;33m\u001b[0m\u001b[0m\n\u001b[0;32m     15\u001b[0m         \u001b[0mmaster_dict\u001b[0m\u001b[1;33m.\u001b[0m\u001b[0mupdate\u001b[0m\u001b[1;33m(\u001b[0m\u001b[0md\u001b[0m\u001b[1;33m)\u001b[0m\u001b[1;33m\u001b[0m\u001b[1;33m\u001b[0m\u001b[0m\n",
      "\u001b[1;31mIndexError\u001b[0m: list index out of range"
     ]
    }
   ],
   "source": [
    "ls=st.split(',')\n",
    "#print(ls)\n",
    "d={}\n",
    "l=[]\n",
    "master_dict={}\n",
    "for sub_str in ls:\n",
    "    pair_list=sub_str.split('_')\n",
    "    #pair_list=filter(None,pair_list)\n",
    "    #print(pair_list)\n",
    "    for pair in pair_list:\n",
    "        kv_pair= pair.split(\":\")\n",
    "        print(kv_pair)\n",
    "        d={kv_pair[0]:kv_pair[1]}\n",
    "        #print(d)\n",
    "        master_dict.update(d)\n",
    "    l.append(master_dict)            \n",
    "print(l)\n",
    "    "
   ]
  },
  {
   "cell_type": "code",
   "execution_count": 14,
   "metadata": {},
   "outputs": [],
   "source": [
    "d={}\n",
    "d[1]=0"
   ]
  },
  {
   "cell_type": "code",
   "execution_count": 15,
   "metadata": {},
   "outputs": [
    {
     "data": {
      "text/plain": [
       "{1: 0}"
      ]
     },
     "execution_count": 15,
     "metadata": {},
     "output_type": "execute_result"
    }
   ],
   "source": [
    "d"
   ]
  },
  {
   "cell_type": "code",
   "execution_count": 87,
   "metadata": {},
   "outputs": [],
   "source": [
    "d={2:0}"
   ]
  },
  {
   "cell_type": "code",
   "execution_count": 88,
   "metadata": {},
   "outputs": [
    {
     "data": {
      "text/plain": [
       "{2: 0}"
      ]
     },
     "execution_count": 88,
     "metadata": {},
     "output_type": "execute_result"
    }
   ],
   "source": [
    "d"
   ]
  },
  {
   "cell_type": "code",
   "execution_count": null,
   "metadata": {},
   "outputs": [],
   "source": []
  }
 ],
 "metadata": {
  "kernelspec": {
   "display_name": "Python 3",
   "language": "python",
   "name": "python3"
  },
  "language_info": {
   "codemirror_mode": {
    "name": "ipython",
    "version": 3
   },
   "file_extension": ".py",
   "mimetype": "text/x-python",
   "name": "python",
   "nbconvert_exporter": "python",
   "pygments_lexer": "ipython3",
   "version": "3.7.3"
  }
 },
 "nbformat": 4,
 "nbformat_minor": 2
}
