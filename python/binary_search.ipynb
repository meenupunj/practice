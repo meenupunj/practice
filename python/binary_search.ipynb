{
 "cells": [
  {
   "cell_type": "code",
   "execution_count": 1,
   "metadata": {},
   "outputs": [],
   "source": [
    "s_list=[23,45,56,76,83,90,90,94,109]"
   ]
  },
  {
   "cell_type": "code",
   "execution_count": 23,
   "metadata": {},
   "outputs": [],
   "source": [
    "s_list=[17]"
   ]
  },
  {
   "cell_type": "code",
   "execution_count": 25,
   "metadata": {},
   "outputs": [
    {
     "data": {
      "text/plain": [
       "range(0, 8)"
      ]
     },
     "execution_count": 25,
     "metadata": {},
     "output_type": "execute_result"
    }
   ],
   "source": [
    "range(len(s_list))"
   ]
  },
  {
   "cell_type": "code",
   "execution_count": 28,
   "metadata": {},
   "outputs": [
    {
     "data": {
      "text/plain": [
       "3"
      ]
     },
     "execution_count": 28,
     "metadata": {},
     "output_type": "execute_result"
    }
   ],
   "source": [
    "int(3.5)"
   ]
  },
  {
   "cell_type": "code",
   "execution_count": 2,
   "metadata": {},
   "outputs": [
    {
     "name": "stdout",
     "output_type": "stream",
     "text": [
      "6\n"
     ]
    }
   ],
   "source": [
    "##### iterative method\n",
    "item=90\n",
    "low=0\n",
    "high=len(s_list)-1\n",
    "mid=0\n",
    "found=None\n",
    "if s_list==[]:\n",
    "    print(\"its an empty list\")\n",
    "elif len(s_list)==1:\n",
    "    print(\"list have only one value\")\n",
    "    if s_list[0]==item:\n",
    "        print(\"item is at index 0\")\n",
    "        found=s_list[0]\n",
    "    else:\n",
    "        print(\"item not in list\")\n",
    "else:\n",
    "\n",
    "    while low<=high:\n",
    "        mid=int((high+low)/2)\n",
    "        if s_list[mid]< item:\n",
    "            low=mid+1\n",
    "        elif s_list[mid]> item:\n",
    "            high=mid-1\n",
    "\n",
    "        else: \n",
    "            # s_list[mid]==item:\n",
    "            found=mid\n",
    "            #print(found)\n",
    "            break\n",
    "if not found:\n",
    "    print(\"item not in list\")\n",
    "else:\n",
    "    print(found)\n",
    "\n",
    "    \n",
    "        \n",
    "    \n",
    "    \n",
    "    "
   ]
  },
  {
   "cell_type": "code",
   "execution_count": 2,
   "metadata": {},
   "outputs": [],
   "source": [
    "### recursive method#######\n",
    "\n",
    "def binary_search(s_list,item,low,high):\n",
    "    #low=0\n",
    "    #high=len(s_list)-1\n",
    "    #print(s_list)\n",
    "    #mid=0\n",
    "    found1=None\n",
    "    \n",
    "    if s_list==[]:\n",
    "        print(\"its an empty list\")\n",
    "    elif len(s_list)==1:\n",
    "        print(\"list have only one value\")\n",
    "        if s_list[0]==item:\n",
    "            print(\"item is at index 0\")\n",
    "            found=s_list[0]\n",
    "        else:\n",
    "            print(\"item not in list\")\n",
    "    else:\n",
    "        if low<=high:\n",
    "            mid=(high+low)//2\n",
    "            if s_list[mid]< item:\n",
    "#                 r_list=s_list[mid+1:]\n",
    "                return binary_search(s_list,item,mid+1,high)\n",
    "\n",
    "            elif s_list[mid]> item:\n",
    "#                 l_list=s_list[:mid-1]\n",
    "                return binary_search(s_list,item,low,mid-1)\n",
    "            else: \n",
    "                # s_list[mid]==item:\n",
    "                found1=mid\n",
    "                #print(found)\n",
    "                return found1\n",
    "                if not found1:\n",
    "                    print(\"item not in list\")\n",
    "                else:\n",
    "                    print(found1)\n",
    "        else:\n",
    "            print(\"item not in list\")\n",
    "\n",
    "        "
   ]
  },
  {
   "cell_type": "code",
   "execution_count": 4,
   "metadata": {},
   "outputs": [
    {
     "data": {
      "text/plain": [
       "1"
      ]
     },
     "execution_count": 4,
     "metadata": {},
     "output_type": "execute_result"
    }
   ],
   "source": [
    "binary_search(s_list,45,0,len(s_list)-1)"
   ]
  },
  {
   "cell_type": "code",
   "execution_count": null,
   "metadata": {},
   "outputs": [],
   "source": []
  },
  {
   "cell_type": "code",
   "execution_count": 33,
   "metadata": {},
   "outputs": [],
   "source": []
  },
  {
   "cell_type": "code",
   "execution_count": 65,
   "metadata": {},
   "outputs": [],
   "source": [
    "s_list=[14]"
   ]
  },
  {
   "cell_type": "code",
   "execution_count": 54,
   "metadata": {},
   "outputs": [],
   "source": [
    "r=s_list[4:]"
   ]
  },
  {
   "cell_type": "code",
   "execution_count": 55,
   "metadata": {},
   "outputs": [
    {
     "data": {
      "text/plain": [
       "[83, 90, 90, 94, 109]"
      ]
     },
     "execution_count": 55,
     "metadata": {},
     "output_type": "execute_result"
    }
   ],
   "source": [
    "r"
   ]
  },
  {
   "cell_type": "code",
   "execution_count": 29,
   "metadata": {},
   "outputs": [
    {
     "name": "stdout",
     "output_type": "stream",
     "text": [
      "4\n"
     ]
    }
   ],
   "source": [
    "print((3+6)//2)\n",
    "\n"
   ]
  },
  {
   "cell_type": "code",
   "execution_count": 73,
   "metadata": {},
   "outputs": [],
   "source": [
    "## to handle list with duplicate data\n",
    "\n",
    "def binary_search(s_list,item,low,high):\n",
    "    #low=0\n",
    "    #high=len(s_list)-1\n",
    "    #print(s_list)\n",
    "    #mid=0\n",
    "    found1=None\n",
    "    \n",
    "    if s_list==[]:\n",
    "        print(\"its an empty list\")\n",
    "    elif len(s_list)==1:\n",
    "        print(\"list have only one value\")\n",
    "        if s_list[0]==item:\n",
    "            print(\"item is at index 0\")\n",
    "            found=s_list[0]\n",
    "        else:\n",
    "            print(\"item not in list\")\n",
    "    else:\n",
    "        if low<=high:\n",
    "            mid=(high+low)//2\n",
    "            if s_list[mid]< item:\n",
    "                r_list=s_list[mid+1:]\n",
    "                return binary_search(s_list,item,mid+1,high)\n",
    "\n",
    "            elif s_list[mid]> item:\n",
    "                l_list=s_list[:mid-1]\n",
    "                return binary_search(s_list,item,low,mid-1)\n",
    "            else: \n",
    "                # s_list[mid]==item:\n",
    "                found1=mid\n",
    "                #print(found)\n",
    "                return found1\n",
    "                if item ==s_list[mid+1] :\n",
    "                    print(\"we have multiple occurences of item\")\n",
    "                    print(\"item is also present at index (mid+1)\".format(mid+1))\n",
    "                elif item==s_list[mid-1]:\n",
    "                    print(\"we have multiple occurences of item\")\n",
    "                    print(\"item is also present at index (mid+1)\".format(mid-1))\n",
    "                else:\n",
    "                    pass\n",
    "                \n",
    "            \n",
    "                if not found1:\n",
    "                    print(\"item not in list\")\n",
    "                else:\n",
    "                    print(found1)\n",
    "        else:\n",
    "            print(\"item not in list\")\n",
    "\n",
    "        "
   ]
  },
  {
   "cell_type": "code",
   "execution_count": 74,
   "metadata": {},
   "outputs": [
    {
     "data": {
      "text/plain": [
       "6"
      ]
     },
     "execution_count": 74,
     "metadata": {},
     "output_type": "execute_result"
    }
   ],
   "source": [
    "binary_search(s_list,90,0,len(s_list)-1)"
   ]
  },
  {
   "cell_type": "code",
   "execution_count": null,
   "metadata": {},
   "outputs": [],
   "source": []
  }
 ],
 "metadata": {
  "kernelspec": {
   "display_name": "Python 3",
   "language": "python",
   "name": "python3"
  },
  "language_info": {
   "codemirror_mode": {
    "name": "ipython",
    "version": 3
   },
   "file_extension": ".py",
   "mimetype": "text/x-python",
   "name": "python",
   "nbconvert_exporter": "python",
   "pygments_lexer": "ipython3",
   "version": "3.7.3"
  }
 },
 "nbformat": 4,
 "nbformat_minor": 2
}
