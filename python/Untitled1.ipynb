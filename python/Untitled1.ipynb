{
 "cells": [
  {
   "cell_type": "code",
   "execution_count": null,
   "metadata": {},
   "outputs": [],
   "source": [
    "***test cases***\n"
   ]
  }
 ],
 "metadata": {
  "kernelspec": {
   "display_name": "Robot Framework",
   "language": "robotframework",
   "name": "robotkernel"
  }
 },
 "nbformat": 4,
 "nbformat_minor": 2
}
