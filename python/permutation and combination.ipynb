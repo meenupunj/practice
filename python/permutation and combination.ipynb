{
 "cells": [
  {
   "cell_type": "code",
   "execution_count": null,
   "metadata": {},
   "outputs": [],
   "source": [
    "\"Find all the  combination of 3 numbers from list, whose sume is zero. \n",
    "e.g [-2,-1,0,1,2]\n",
    "o/p:   (-2,0,2), (-1,0,1)\"\n"
   ]
  },
  {
   "cell_type": "code",
   "execution_count": 13,
   "metadata": {},
   "outputs": [],
   "source": [
    "test_str=[-2,-1,0,1,2]\n"
   ]
  },
  {
   "cell_type": "code",
   "execution_count": 14,
   "metadata": {},
   "outputs": [
    {
     "name": "stdout",
     "output_type": "stream",
     "text": [
      "-2 0 2\n",
      "-1 0 1\n"
     ]
    }
   ],
   "source": [
    "for i in range(len(test_str)):\n",
    "    for j in range(i+1,len(test_str)):\n",
    "        for k in range(j+1,len(test_str)):\n",
    "            if test_str[i]+test_str[j]+test_str[k]==0:\n",
    "                #print(i,j,k)\n",
    "                print(test_str[i],test_str[j],test_str[k])\n",
    "            \n",
    "        "
   ]
  },
  {
   "cell_type": "code",
   "execution_count": 4,
   "metadata": {
    "scrolled": true
   },
   "outputs": [
    {
     "data": {
      "text/plain": [
       "[-2, -1, 0]"
      ]
     },
     "execution_count": 4,
     "metadata": {},
     "output_type": "execute_result"
    }
   ],
   "source": [
    "test_str[0:3]"
   ]
  },
  {
   "cell_type": "code",
   "execution_count": 5,
   "metadata": {},
   "outputs": [],
   "source": [
    "\n",
    "from itertools import permutations, combinations"
   ]
  },
  {
   "cell_type": "code",
   "execution_count": 40,
   "metadata": {},
   "outputs": [
    {
     "name": "stdout",
     "output_type": "stream",
     "text": [
      "(-2, -1)\n",
      "(-2, 0)\n",
      "(-2, 1)\n",
      "(-2, 2)\n",
      "(-1, 0)\n",
      "(-1, 1)\n",
      "(-1, 2)\n",
      "(0, 1)\n",
      "(0, 2)\n",
      "(1, 2)\n",
      "(-2, -1, 0)\n",
      "(-2, -1, 1)\n",
      "(-2, -1, 2)\n",
      "(-2, 0, 1)\n",
      "(-2, 0, 2)\n",
      "(-2, 1, 2)\n",
      "(-1, 0, 1)\n",
      "(-1, 0, 2)\n",
      "(-1, 1, 2)\n",
      "(0, 1, 2)\n",
      "(-2, -1, 0, 1)\n",
      "(-2, -1, 0, 2)\n",
      "(-2, -1, 1, 2)\n",
      "(-2, 0, 1, 2)\n",
      "(-1, 0, 1, 2)\n",
      "(-2, -1, 0, 1, 2)\n",
      "[(-2, 2), (-1, 1), (-2, 0, 2), (-1, 0, 1), (-2, -1, 1, 2), (-2, -1, 0, 1, 2)]\n"
     ]
    }
   ],
   "source": [
    "final_list=[]\n",
    "for i in range(2,len(test_str)+1):\n",
    "    for j in combinations(test_str,i):\n",
    "        print(j)\n",
    "        sum_of_tuple=sum(j)\n",
    "        if sum_of_tuple==0:\n",
    "            final_list.append(j)\n",
    "print(final_list)"
   ]
  },
  {
   "cell_type": "code",
   "execution_count": 22,
   "metadata": {},
   "outputs": [
    {
     "data": {
      "text/plain": [
       "<itertools.combinations at 0x20f3b6706d8>"
      ]
     },
     "execution_count": 22,
     "metadata": {},
     "output_type": "execute_result"
    }
   ],
   "source": [
    "combinations(test_str,2"
   ]
  },
  {
   "cell_type": "code",
   "execution_count": null,
   "metadata": {},
   "outputs": [],
   "source": [
    "Given a list of characters, generate the all possible string from the characters. \n",
    "\n",
    "e.g. input = ['a', 'b', 'c']\n",
    "\n",
    "o/p: [abc, acb, bac, bca, cab, cba]"
   ]
  },
  {
   "cell_type": "code",
   "execution_count": 75,
   "metadata": {},
   "outputs": [],
   "source": [
    "input = ['a', 'b', 'c']"
   ]
  },
  {
   "cell_type": "code",
   "execution_count": 44,
   "metadata": {},
   "outputs": [
    {
     "data": {
      "text/plain": [
       "[\"['a'\", \" 'b'\", \" 'c']\"]"
      ]
     },
     "execution_count": 44,
     "metadata": {},
     "output_type": "execute_result"
    }
   ],
   "source": [
    "str(input).split(',')"
   ]
  },
  {
   "cell_type": "code",
   "execution_count": 11,
   "metadata": {},
   "outputs": [
    {
     "name": "stdout",
     "output_type": "stream",
     "text": [
      "\n",
      "a\n",
      "ab\n",
      "\n",
      "a\n",
      "ac\n",
      "\n",
      "b\n",
      "ba\n",
      "\n",
      "b\n",
      "bc\n",
      "\n",
      "c\n",
      "ca\n",
      "\n",
      "c\n",
      "cb\n",
      "['abc', 'acb', 'bac', 'bca', 'cab', 'cba']\n"
     ]
    }
   ],
   "source": [
    "# [('a', 'b', 'c'),\n",
    "#  ('a', 'c', 'b'),\n",
    "#  ('b', 'a', 'c'),\n",
    "#  ('b', 'c', 'a'),\n",
    "#  ('c', 'a', 'b'),\n",
    "#  ('c', 'b', 'a')].......this is output of permutation.... it gives us list of tupples. so eit\n",
    "\n",
    "result_list=[]\n",
    "for j in permutations(input,3):\n",
    "    emp=''\n",
    "    for i in j:\n",
    "        #print(emp)\n",
    "        emp=emp+i\n",
    "        #print(emp)\n",
    "    result_list.append(emp)\n",
    "print(result_list)\n",
    "        \n",
    "        "
   ]
  },
  {
   "cell_type": "code",
   "execution_count": 48,
   "metadata": {},
   "outputs": [
    {
     "data": {
      "text/plain": [
       "'a'"
      ]
     },
     "execution_count": 48,
     "metadata": {},
     "output_type": "execute_result"
    }
   ],
   "source": [
    "input.pop()"
   ]
  },
  {
   "cell_type": "code",
   "execution_count": 83,
   "metadata": {},
   "outputs": [
    {
     "name": "stdout",
     "output_type": "stream",
     "text": [
      "['abc', 'acb', 'bac', 'bca', 'cab', 'cba']\n"
     ]
    }
   ],
   "source": [
    "final_list=[]\n",
    "for tup in permutations(input,3):\n",
    "    v=''.join(tup)\n",
    "    final_list.append(v)\n",
    "print(final_list)"
   ]
  },
  {
   "cell_type": "code",
   "execution_count": 76,
   "metadata": {},
   "outputs": [
    {
     "data": {
      "text/plain": [
       "[('a', 'b', 'c'),\n",
       " ('a', 'c', 'b'),\n",
       " ('b', 'a', 'c'),\n",
       " ('b', 'c', 'a'),\n",
       " ('c', 'a', 'b'),\n",
       " ('c', 'b', 'a')]"
      ]
     },
     "execution_count": 76,
     "metadata": {},
     "output_type": "execute_result"
    }
   ],
   "source": [
    "list( permutations(input,3))"
   ]
  },
  {
   "cell_type": "code",
   "execution_count": 1,
   "metadata": {},
   "outputs": [],
   "source": [
    "input = ['a', 'b', 'c',]"
   ]
  },
  {
   "cell_type": "code",
   "execution_count": 4,
   "metadata": {},
   "outputs": [
    {
     "name": "stdout",
     "output_type": "stream",
     "text": [
      "a b\n",
      "a c\n",
      "b c\n"
     ]
    }
   ],
   "source": [
    "ls=[]\n",
    "for i in range(len(input)):\n",
    "    for j in range(i+1,len(input)):\n",
    "        print(input[i],input[j])\n"
   ]
  },
  {
   "cell_type": "code",
   "execution_count": 10,
   "metadata": {},
   "outputs": [
    {
     "name": "stdout",
     "output_type": "stream",
     "text": [
      "('a', 'b', 'c')\n",
      "('a', 'c', 'b')\n",
      "('b', 'a', 'c')\n",
      "('b', 'c', 'a')\n",
      "('c', 'a', 'b')\n",
      "('c', 'b', 'a')\n",
      "None\n"
     ]
    }
   ],
   "source": [
    "ls=[]\n",
    "output=[]\n",
    "\n",
    "for tup in permutations(input,3):\n",
    "    print(tup)\n",
    "    output=ls.append(tup)\n",
    "print(output)"
   ]
  },
  {
   "cell_type": "code",
   "execution_count": null,
   "metadata": {},
   "outputs": [],
   "source": []
  }
 ],
 "metadata": {
  "kernelspec": {
   "display_name": "Python 3",
   "language": "python",
   "name": "python3"
  },
  "language_info": {
   "codemirror_mode": {
    "name": "ipython",
    "version": 3
   },
   "file_extension": ".py",
   "mimetype": "text/x-python",
   "name": "python",
   "nbconvert_exporter": "python",
   "pygments_lexer": "ipython3",
   "version": "3.8.4"
  }
 },
 "nbformat": 4,
 "nbformat_minor": 2
}
