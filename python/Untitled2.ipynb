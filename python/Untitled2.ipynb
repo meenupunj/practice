{
 "cells": [
  {
   "cell_type": "code",
   "execution_count": 1,
   "metadata": {},
   "outputs": [],
   "source": [
    "import xlrd\n",
    "from xlrd import open_workbook, cellname"
   ]
  },
  {
   "cell_type": "code",
   "execution_count": 8,
   "metadata": {},
   "outputs": [],
   "source": [
    "b=xlrd.open_workbook('Programming_question.xlsx')"
   ]
  },
  {
   "cell_type": "code",
   "execution_count": 12,
   "metadata": {},
   "outputs": [],
   "source": [
    "a=b.sheet_by_name('Interview questions')"
   ]
  },
  {
   "cell_type": "code",
   "execution_count": 20,
   "metadata": {},
   "outputs": [
    {
     "name": "stdout",
     "output_type": "stream",
     "text": [
      "0\n"
     ]
    }
   ],
   "source": [
    "print(a.columns_from_right_to_left)"
   ]
  },
  {
   "cell_type": "code",
   "execution_count": 26,
   "metadata": {},
   "outputs": [
    {
     "name": "stdout",
     "output_type": "stream",
     "text": [
      "[1.0, 'Find the second / third max value from list. Multiple approch (with sorting and with 2 temp variable)', '']\n"
     ]
    }
   ],
   "source": [
    "print(a.row_values(1,0))"
   ]
  },
  {
   "cell_type": "code",
   "execution_count": 29,
   "metadata": {},
   "outputs": [
    {
     "name": "stdout",
     "output_type": "stream",
     "text": [
      "Find the second / third max value from list. Multiple approch (with sorting and with 2 temp variable)\n"
     ]
    }
   ],
   "source": [
    "print(a.cell_value(1,1))"
   ]
  },
  {
   "cell_type": "code",
   "execution_count": 35,
   "metadata": {},
   "outputs": [
    {
     "name": "stdout",
     "output_type": "stream",
     "text": [
      "1\n"
     ]
    }
   ],
   "source": [
    "print(a.cell_type(1,1))"
   ]
  },
  {
   "cell_type": "code",
   "execution_count": 38,
   "metadata": {},
   "outputs": [
    {
     "name": "stdout",
     "output_type": "stream",
     "text": [
      "32\n"
     ]
    }
   ],
   "source": [
    "print(a.nrows)"
   ]
  },
  {
   "cell_type": "code",
   "execution_count": 57,
   "metadata": {},
   "outputs": [
    {
     "name": "stdout",
     "output_type": "stream",
     "text": [
      "['Program', 'Find the second / third max value from list. Multiple approch (with sorting and with 2 temp variable)', 'Find all the  combination of 3 numbers from list, whose sume is zero. \\r\\ne.g [-2,-1,0,1,2]\\r\\no/p:   (-2,0,2), (-1,0,1)', 'Find the unique year from the given text. Year is in DD-MM-YYYY format. \\r\\ne.g. str1 = \"My name is rahul. I born in 09-01-1991, I stay in pune since 12-13-2012.\"\\r\\no/p:  [1991, 2012]', 'Perform the quick sort on the given list of integer value.', 'Find the nth fibbonaci number using recursion. ', \"Given a list of characters, generate the all possible string from the characters. \\r\\ne.g. input = ['a', 'b', 'c']\\r\\no/p: [abc, acb, bac, bca, cab, cba]\", 'What will be OUTPUT of the below statements?\\r\\n\\r\\nstr_var = \\'its.a.wonderful.world\\'\\r\\n\\r\\nOUTPUT = \".\".join([ x [::-1] for x in str_var.split(\".\")])', 'What is issue with following mysql query :\\r\\n\\r\\nCREATE TABLE `Product` (\\r\\n`id` int(11) NOT NULL AUTO_INCREMENT,\\r\\n`empid` int(11) NOT NULL AUTO_INCREMENT,\\r\\n`empname` varchar(255) NOT NULL,\\r\\nPRIMARY KEY (`id`)\\r\\n);', 'Replace self closing tag to tag name closing ( on same line )\\r\\nEg :\\r\\nOld : <filepath src=\"Z:\\\\32\\\\installer.msi\\\\\" dest=\"Buildfiles\\\\Preinstall\\\\32\\\\\"/>\\r\\nNew : <filepath src=\"Z:\\\\32\\\\installer.msi\\\\\" dest=\"Buildfiles\\\\Preinstall\\\\32\\\\\"> <filepath/>\\r\\n-\\tKeeping xml valid', 'Write a program/regex  to  check weather input string is valid IPv4 or not ?\\r\\ne.g. str= \"192.168.0.1\" => True\\r\\n  \"999.999.999.999\" => False', 'Write a program to calculate the difference between two dates without using in-buit method. Output should be number of days. Handle the leap year scenario also ', 'What is difference between BLOB and TEXT data type in Database?', \"what is the o/p of below python code? \\r\\nnames1 = ['Amir', 'Barry', 'Chales', 'Dao']\\r\\nnames2 = [name.lower() for name in names1]\\r\\nprint(names2[2][0])\", 'what is the o/p of below python code ?\\r\\nm = [1,2,3,4,5]\\r\\no = map(lambda x: x**2, m)\\r\\nprint(o)', 'what is the o/p of below python code ?\\r\\nd = lambda p: p * 2\\r\\nt = lambda p: p * 3\\r\\nx = 2\\r\\nx = d(x) \\r\\nx = t(x) \\r\\nx = d(x) \\r\\nprint(x)', 'what is the o/p of below python code ?\\r\\na = [1, 2, 3, None, (), [], ]\\r\\nlen(a)', 'What action steps we should take to fix the unstable / flaky test case in automation?', 'Write a singletone class.', 'what is static method in python? Can you give the scenarion of any static method you have written ? what is the use ?', 'You need to create a application which is similar to online dictionary (e.g. english to english, having word and its meaning). There will be thousands of words into the dictionary. \\r\\nwhich data structure you will use for the same? why? Make sure you support the CRUD operation on it. \\r\\nWhat is the time-complexity of CRUD operation? \\r\\nHave you heared of TRIE data structure?', 'Can you write psudo code / logic for binary search?', 'You need to test the application, which is similar to winzip. What all different types of test you will be perform?', 'You are working on the web based application, someday you findout that homepage of your application is not opening.\\r\\nwhat debugging steps you will do?', 'create a list of dict from string - \"seat:11_adt:13_c:11111_p:15_sc:1_m:1+6+8_x:1_y:2_t:100_va:3_rt:2_prtcl:2_wrl:0,seat:11_adt:3_c:22222_p:5_sc:1_,seat:21_adt:3_c:33333_p:11_sc:1_api:3_did:interstial-app-deal\"', 'Give an example of low severity and high priority bug.\\r\\nGive an example of high severity and low priority bug.', 'Write recursive program to find the nth fibbocani number.', 'figure out the sequence structure (1, -4, 7, -10, 13, -16, 19, -22, 25, -28) .... And write a program for the same.', 'Reverse words in a given sentence with special characters in place\\r\\nExample: Hello! How’re you?\\r\\nOutput: olleH! woH’er uoy?', 'Merge 2 sorted array in < O(n) time complexity. \\r\\ne.g. arr1 = [1,3,5]\\narr2 = [2,4,6]\\no/p: [1,2,3,4,5,6]', 'Convert decimal to binary number w/o using inbuilt functions. Same can be asked like decimal to hex.', 'Longest common subarray in the given two arrays.\\r\\nInput: A[] = {1, 2, 8, 2, 1}, B[] = {8, 2, 1, 4, 7}\\r\\nOutput: 3\\r\\nExplanation:\\r\\nThe subarray that is common to both arrays are {8, 2, 1} and the length of the subarray is 3.\\r\\n\\r\\nInput: A[] = {1, 2, 3, 2, 1}, B[] = {8, 7, 6, 4, 7}\\r\\nOutput: 0\\r\\nExplanation:\\r\\nThere is no such subarrays which are equal in the array A[] and B[].']\n"
     ]
    }
   ],
   "source": [
    "print(a.col_values(1))"
   ]
  },
  {
   "cell_type": "code",
   "execution_count": null,
   "metadata": {},
   "outputs": [],
   "source": []
  },
  {
   "cell_type": "code",
   "execution_count": 52,
   "metadata": {},
   "outputs": [
    {
     "name": "stdout",
     "output_type": "stream",
     "text": [
      "Sr No\n",
      "Program\n",
      "Notes /comment\n"
     ]
    }
   ],
   "source": [
    "for i in range(a.ncols): \n",
    "    print(a.cell_value(0, i)) "
   ]
  },
  {
   "cell_type": "code",
   "execution_count": 65,
   "metadata": {},
   "outputs": [],
   "source": [
    "aa='abc'+\"  \"+'123'+\"---\"+'!!'"
   ]
  },
  {
   "cell_type": "code",
   "execution_count": 70,
   "metadata": {},
   "outputs": [
    {
     "name": "stdout",
     "output_type": "stream",
     "text": [
      "abc  123---!!is testing formats string\n"
     ]
    }
   ],
   "source": [
    "print(f\"{aa}is testing formats string\")"
   ]
  },
  {
   "cell_type": "code",
   "execution_count": null,
   "metadata": {},
   "outputs": [],
   "source": []
  }
 ],
 "metadata": {
  "kernelspec": {
   "display_name": "Python 3",
   "language": "python",
   "name": "python3"
  },
  "language_info": {
   "codemirror_mode": {
    "name": "ipython",
    "version": 3
   },
   "file_extension": ".py",
   "mimetype": "text/x-python",
   "name": "python",
   "nbconvert_exporter": "python",
   "pygments_lexer": "ipython3",
   "version": "3.7.3"
  }
 },
 "nbformat": 4,
 "nbformat_minor": 2
}
