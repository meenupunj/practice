{
 "cells": [
  {
   "cell_type": "code",
   "execution_count": null,
   "metadata": {},
   "outputs": [],
   "source": [
    "What will be OUTPUT of the below statements?\n",
    "\n",
    "\n",
    "\n",
    "str_var = 'its.a.wonderful.world'\n",
    "\n",
    "\n",
    "\n",
    "OUTPUT = \".\".join([ x [::-1] for x in str_var.split(\".\")])"
   ]
  },
  {
   "cell_type": "code",
   "execution_count": 1,
   "metadata": {},
   "outputs": [],
   "source": [
    "str_var = 'its.a.wonderful.world'"
   ]
  },
  {
   "cell_type": "code",
   "execution_count": 26,
   "metadata": {},
   "outputs": [
    {
     "name": "stdout",
     "output_type": "stream",
     "text": [
      "sti.a.lufrednow.dlrow\n"
     ]
    }
   ],
   "source": [
    "temp_list=[]\n",
    "for x in str_var.split(\".\"):\n",
    "    temp_list.append(x[::-1])\n",
    "print(\".\".join(temp_list))"
   ]
  },
  {
   "cell_type": "code",
   "execution_count": 13,
   "metadata": {},
   "outputs": [
    {
     "data": {
      "text/plain": [
       "'sti.a.lufrednow.dlrow'"
      ]
     },
     "execution_count": 13,
     "metadata": {},
     "output_type": "execute_result"
    }
   ],
   "source": [
    "\".\".join([ x [::-1] for x in str_var.split(\".\")])"
   ]
  },
  {
   "cell_type": "code",
   "execution_count": null,
   "metadata": {},
   "outputs": [],
   "source": []
  },
  {
   "cell_type": "code",
   "execution_count": null,
   "metadata": {},
   "outputs": [],
   "source": [
    "#few example of slicing:"
   ]
  },
  {
   "cell_type": "code",
   "execution_count": 31,
   "metadata": {},
   "outputs": [],
   "source": [
    "temp_list=[3,5,7,4,9,22,78]\n"
   ]
  },
  {
   "cell_type": "code",
   "execution_count": 34,
   "metadata": {},
   "outputs": [
    {
     "data": {
      "text/plain": [
       "[3, 5, 7]"
      ]
     },
     "execution_count": 34,
     "metadata": {},
     "output_type": "execute_result"
    }
   ],
   "source": [
    "temp_list[:3]"
   ]
  },
  {
   "cell_type": "code",
   "execution_count": 35,
   "metadata": {},
   "outputs": [
    {
     "data": {
      "text/plain": [
       "[4, 9, 22, 78]"
      ]
     },
     "execution_count": 35,
     "metadata": {},
     "output_type": "execute_result"
    }
   ],
   "source": [
    "temp_list[3:]"
   ]
  },
  {
   "cell_type": "code",
   "execution_count": 36,
   "metadata": {},
   "outputs": [
    {
     "data": {
      "text/plain": [
       "[3, 5, 7, 4]"
      ]
     },
     "execution_count": 36,
     "metadata": {},
     "output_type": "execute_result"
    }
   ],
   "source": [
    "temp_list[:-3]"
   ]
  },
  {
   "cell_type": "code",
   "execution_count": 37,
   "metadata": {},
   "outputs": [
    {
     "data": {
      "text/plain": [
       "[9, 22, 78]"
      ]
     },
     "execution_count": 37,
     "metadata": {},
     "output_type": "execute_result"
    }
   ],
   "source": [
    "temp_list[-3:]"
   ]
  },
  {
   "cell_type": "code",
   "execution_count": 39,
   "metadata": {},
   "outputs": [
    {
     "data": {
      "text/plain": [
       "[3, 5, 7, 4, 9]"
      ]
     },
     "execution_count": 39,
     "metadata": {},
     "output_type": "execute_result"
    }
   ],
   "source": [
    "temp_list[:-2]"
   ]
  },
  {
   "cell_type": "code",
   "execution_count": 87,
   "metadata": {},
   "outputs": [],
   "source": [
    "import string"
   ]
  },
  {
   "cell_type": "code",
   "execution_count": 89,
   "metadata": {},
   "outputs": [
    {
     "data": {
      "text/plain": [
       "'!\"#$%&\\'()*+,-./:;<=>?@[\\\\]^_`{|}~'"
      ]
     },
     "execution_count": 89,
     "metadata": {},
     "output_type": "execute_result"
    }
   ],
   "source": [
    "string.punctuation"
   ]
  },
  {
   "cell_type": "code",
   "execution_count": 90,
   "metadata": {},
   "outputs": [
    {
     "data": {
      "text/plain": [
       "'abcdefghijklmnopqrstuvwxyzABCDEFGHIJKLMNOPQRSTUVWXYZ'"
      ]
     },
     "execution_count": 90,
     "metadata": {},
     "output_type": "execute_result"
    }
   ],
   "source": [
    "string.ascii_letters"
   ]
  },
  {
   "cell_type": "code",
   "execution_count": null,
   "metadata": {},
   "outputs": [],
   "source": []
  },
  {
   "cell_type": "code",
   "execution_count": null,
   "metadata": {},
   "outputs": [],
   "source": [
    "###Reverse words in a given sentence with special characters in place\n",
    "\n",
    "Example: Hello! How’re you?\n",
    "\n",
    "Output: olleH! woH’er uoy?"
   ]
  },
  {
   "cell_type": "code",
   "execution_count": 99,
   "metadata": {},
   "outputs": [],
   "source": [
    "example = \"Hello! How're you?\"\n"
   ]
  },
  {
   "cell_type": "code",
   "execution_count": 191,
   "metadata": {},
   "outputs": [
    {
     "name": "stdout",
     "output_type": "stream",
     "text": [
      "[['o', 'l', 'l', 'e', 'H', '!'], ['w', 'o', 'H', \"'\"], ['u', 'o', 'y', '?']]\n",
      "olleH! woH' uoy?\n"
     ]
    }
   ],
   "source": [
    "ls=[]\n",
    "\n",
    "for item in example.split(\" \"):\n",
    "    lt=[]\n",
    "    lu=[]\n",
    "    for x in item:\n",
    "       \n",
    "        if x not in string.punctuation:\n",
    "            lt.append(x)\n",
    "        else:\n",
    "            \n",
    "            lt = lt[::-1]\n",
    "            lt.append(x)\n",
    "            lu = lt\n",
    "            lt = []\n",
    "#             s = \"\".join(lt)\n",
    "#             ls.append(s)\n",
    "    ls.append(lu)\n",
    "    \n",
    "            \n",
    "            \n",
    "print(ls)\n",
    "ls = list(map(lambda x: \"\".join(x), ls))\n",
    "print(\" \".join(ls))\n",
    "\n",
    "# st=\"\"\n",
    "# for ch in ls:\n",
    "#     temp = \"\".join(ch)\n",
    "#     print(temp)\n",
    "    \n",
    "    \n",
    "    \n",
    "        \n",
    "        \n",
    "        \n",
    "        \n"
   ]
  },
  {
   "cell_type": "code",
   "execution_count": 184,
   "metadata": {},
   "outputs": [
    {
     "data": {
      "text/plain": [
       "'!\"#$%&\\'()*+,-./:;<=>?@[\\\\]^_`{|}~'"
      ]
     },
     "execution_count": 184,
     "metadata": {},
     "output_type": "execute_result"
    }
   ],
   "source": [
    "string.punctuation"
   ]
  },
  {
   "cell_type": "code",
   "execution_count": null,
   "metadata": {},
   "outputs": [],
   "source": [
    "input_lst = example\n",
    "ls=[]\n",
    "for i in range(len(input_lst)):\n",
    "    x=input_lst[i]\n",
    "    lt=[]\n",
    "    lu=[]\n",
    "    if x in string.punctuation:\n",
    "        print('if', x)\n",
    "        lt.append(x)\n",
    "    elif x in string.whitespace or i==len(input_lst)-1:\n",
    "        print('elif', x)\n",
    "        lt = lt[::-1]\n",
    "        lu = lt\n",
    "        lu.append(x)\n",
    "        ls.append(lu)\n",
    "    else:\n",
    "        print('else', x)\n",
    "        lt = lt[::-1]\n",
    "        lt.append(x)\n",
    "        lu = lt\n",
    "        lt = []\n",
    "    ls.append(lu)\n",
    "    \n",
    "    \n",
    "            \n",
    "            \n",
    "print(lt, lu, ls)\n",
    "# ls ="
   ]
  },
  {
   "cell_type": "code",
   "execution_count": 189,
   "metadata": {},
   "outputs": [
    {
     "name": "stdout",
     "output_type": "stream",
     "text": [
      "else H\n",
      "else e\n",
      "else l\n",
      "else l\n",
      "else o\n",
      "if !\n",
      "elif  \n",
      "else H\n",
      "else o\n",
      "else w\n",
      "if '\n",
      "else r\n",
      "else e\n",
      "elif  \n",
      "else y\n",
      "else o\n",
      "else u\n",
      "if ?\n",
      "['?'] [] [['H'], ['e'], ['l'], ['l'], ['o'], [], [' '], [' '], ['H'], ['o'], ['w'], [], ['r'], ['e'], [' '], [' '], ['y'], ['o'], ['u'], []]\n"
     ]
    }
   ],
   "source": [
    "input_lst = example\n",
    "ls=[]\n",
    "for i in range(len(input_lst)):\n",
    "    x=input_lst[i]\n",
    "    lt=[]\n",
    "    lu=[]\n",
    "    if x in string.punctuation:\n",
    "        print('if', x)\n",
    "        lt.append(x)\n",
    "    elif x in string.whitespace or i==len(input_lst)-1:\n",
    "        print('elif', x)\n",
    "        lt = lt[::-1]\n",
    "        lu = lt\n",
    "        lu.append(x)\n",
    "        ls.append(lu)\n",
    "    else:\n",
    "        print('else', x)\n",
    "        lt = lt[::-1]\n",
    "        lt.append(x)\n",
    "        lu = lt\n",
    "        lt = []\n",
    "    ls.append(lu)\n",
    "    \n",
    "    \n",
    "            \n",
    "            \n",
    "print(lt, lu, ls)\n",
    "# ls ="
   ]
  },
  {
   "cell_type": "code",
   "execution_count": 181,
   "metadata": {},
   "outputs": [
    {
     "data": {
      "text/plain": [
       "[\"Hello! How're you?\"]"
      ]
     },
     "execution_count": 181,
     "metadata": {},
     "output_type": "execute_result"
    }
   ],
   "source": [
    "example.split(\"string.punctuation\")[-1::]"
   ]
  },
  {
   "cell_type": "code",
   "execution_count": null,
   "metadata": {},
   "outputs": [],
   "source": []
  },
  {
   "cell_type": "code",
   "execution_count": 1,
   "metadata": {},
   "outputs": [],
   "source": [
    "s='hello'"
   ]
  },
  {
   "cell_type": "code",
   "execution_count": 65,
   "metadata": {},
   "outputs": [
    {
     "data": {
      "text/plain": [
       "'olleh'"
      ]
     },
     "execution_count": 65,
     "metadata": {},
     "output_type": "execute_result"
    }
   ],
   "source": [
    "s[::-1]"
   ]
  },
  {
   "cell_type": "code",
   "execution_count": 4,
   "metadata": {},
   "outputs": [
    {
     "data": {
      "text/plain": [
       "'o'"
      ]
     },
     "execution_count": 4,
     "metadata": {},
     "output_type": "execute_result"
    }
   ],
   "source": [
    "s[-1::]"
   ]
  },
  {
   "cell_type": "code",
   "execution_count": null,
   "metadata": {},
   "outputs": [],
   "source": []
  }
 ],
 "metadata": {
  "kernelspec": {
   "display_name": "Python 3",
   "language": "python",
   "name": "python3"
  },
  "language_info": {
   "codemirror_mode": {
    "name": "ipython",
    "version": 3
   },
   "file_extension": ".py",
   "mimetype": "text/x-python",
   "name": "python",
   "nbconvert_exporter": "python",
   "pygments_lexer": "ipython3",
   "version": "3.8.4"
  }
 },
 "nbformat": 4,
 "nbformat_minor": 2
}
