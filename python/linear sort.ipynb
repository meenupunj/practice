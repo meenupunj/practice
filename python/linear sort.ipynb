{
 "cells": [
  {
   "cell_type": "code",
   "execution_count": 2,
   "metadata": {},
   "outputs": [],
   "source": [
    "ls=[3,7,26,90,1,45,32]"
   ]
  },
  {
   "cell_type": "code",
   "execution_count": 13,
   "metadata": {},
   "outputs": [],
   "source": [
    "\n",
    "def linear_sort(ls):\n",
    "    '''\n",
    "    we compare 1st and 2nd item and put the smallest among them at index 0.\n",
    "    compare 1st with 3rd item and put the smallest among them at index 0.\n",
    "    compare 1st with 4th item and put the smallest among them at index 0.and so on\n",
    "    \n",
    "    onc eit is compared with all item .then item at index 0 is smallest item among the list.\n",
    "    repeat the above steps with 2nd item ( at index 1) and start comparing with rest of the list.\n",
    "    '''\n",
    "    for i in range(len(ls)):\n",
    "        for j in range(i+1,len(ls)):\n",
    "            if ls[i]>ls[j]:\n",
    "                temp=ls[i]\n",
    "                ls[i]=ls[j]\n",
    "                ls[j]=temp\n",
    "                \n",
    "    print(ls)\n",
    "                \n",
    "            "
   ]
  },
  {
   "cell_type": "code",
   "execution_count": 14,
   "metadata": {},
   "outputs": [
    {
     "name": "stdout",
     "output_type": "stream",
     "text": [
      "[1, 3, 7, 26, 32, 45, 90]\n"
     ]
    }
   ],
   "source": [
    "linear_sort(ls)"
   ]
  },
  {
   "cell_type": "code",
   "execution_count": null,
   "metadata": {},
   "outputs": [],
   "source": []
  }
 ],
 "metadata": {
  "kernelspec": {
   "display_name": "Python 3",
   "language": "python",
   "name": "python3"
  },
  "language_info": {
   "codemirror_mode": {
    "name": "ipython",
    "version": 3
   },
   "file_extension": ".py",
   "mimetype": "text/x-python",
   "name": "python",
   "nbconvert_exporter": "python",
   "pygments_lexer": "ipython3",
   "version": "3.7.3"
  }
 },
 "nbformat": 4,
 "nbformat_minor": 2
}
