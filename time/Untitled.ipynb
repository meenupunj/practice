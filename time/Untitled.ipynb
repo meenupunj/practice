{
 "cells": [
  {
   "cell_type": "code",
   "execution_count": 70,
   "metadata": {},
   "outputs": [],
   "source": [
    "# l1 = [100, 60, -20, 30, -10]\n",
    "l1 = [100, 60, -20, -10, 30]\n",
    "output = [-1, -1, -1, -20, -20]"
   ]
  },
  {
   "cell_type": "code",
   "execution_count": 74,
   "metadata": {},
   "outputs": [],
   "source": [
    "l1 = [100, 60, -20, 30, -10]"
   ]
  },
  {
   "cell_type": "code",
   "execution_count": 75,
   "metadata": {},
   "outputs": [
    {
     "name": "stdout",
     "output_type": "stream",
     "text": [
      "0 60 elif\n",
      "1 -20 elif\n",
      "2 30 else\n",
      "2 -10 elif\n",
      "[-1, -1, -1, -20, -20]\n"
     ]
    }
   ],
   "source": [
    "default=-1\n",
    "ls=[]\n",
    "n = len(l1)\n",
    "index = 0\n",
    "min_val = 0\n",
    "for i in range(0, n):\n",
    "    \n",
    "    if i == 0:\n",
    "        ls.append(default)\n",
    "        continue\n",
    "\n",
    "    elif l1[i] <= l1[i-1]:\n",
    "        print(index, l1[i], 'elif')\n",
    "        if l1[index] < l1[i]:\n",
    "            ls.append(l1[index])\n",
    "        else:\n",
    "            index = i\n",
    "            ls.append(default)\n",
    "    else:\n",
    "        print(index, l1[i], 'else')\n",
    "        if l1[i] < l1[index]:\n",
    "            index = i\n",
    "            ls.append(l1[i])\n",
    "        else:\n",
    "            ls.append(l1[index])\n",
    "#             ls.append(default)\n",
    "        \n",
    "print(ls)    "
   ]
  },
  {
   "cell_type": "code",
   "execution_count": null,
   "metadata": {},
   "outputs": [],
   "source": []
  },
  {
   "cell_type": "code",
   "execution_count": null,
   "metadata": {},
   "outputs": [],
   "source": [
    "default=-1\n",
    "ls=[]\n",
    "n = len(l1)\n",
    "index = 0\n",
    "min_val = 0\n",
    "for i in range(0, n):\n",
    "    if i == 0:\n",
    "        ls.append(default)\n",
    "        continue\n",
    "\n",
    "    elif l1[i] < l1[i-1]:\n",
    "#         print(index, l1[i])\n",
    "        if l1[i] > l1[index]:\n",
    "            ls.append(l1[index])\n",
    "        else:\n",
    "            index = i\n",
    "            ls.append(default)\n",
    "    else:        \n",
    "#         l1[i]>=l1[i-1]\n",
    "#         if l1[i] < l1[index]:\n",
    "#             index = i-1\n",
    "#         else:\n",
    "#             index = i\n",
    "#         print(index, l1[index], 'here')\n",
    "        if l1[i] < l1[index]:\n",
    "            ls.append(l1[index])\n",
    "        else:\n",
    "            ls.append(default)\n",
    "#         ls.append(l1[index])\n",
    "print(ls)    "
   ]
  },
  {
   "cell_type": "code",
   "execution_count": null,
   "metadata": {},
   "outputs": [],
   "source": []
  },
  {
   "cell_type": "code",
   "execution_count": 22,
   "metadata": {},
   "outputs": [],
   "source": [
    "l1 = [100, 60, -20, -10, 30]"
   ]
  },
  {
   "cell_type": "code",
   "execution_count": 24,
   "metadata": {},
   "outputs": [
    {
     "name": "stdout",
     "output_type": "stream",
     "text": [
      "[-1, -1, -1, -20, -20]\n"
     ]
    }
   ],
   "source": [
    "default=-1\n",
    "ls=[]\n",
    "m=0\n",
    "for i in range(len(l1)):\n",
    "    if i==0: \n",
    "        ls.append(default)\n",
    "    elif l1[i]<l1[i-1]:\n",
    "        ls.append(default)\n",
    "    elif l1[i]>l1[i-1] and l1[i-1]<=m:\n",
    "        ls.append(l1[i-1]) \n",
    "        m=l1[i-1]\n",
    "    \n",
    "#     elif l1[i]>l1[i-1] and l1[i-1]>m:\n",
    "#         ls.append(l1[i-1]) \n",
    "    elif l1[i]<l1[i-1] and l1[i]<m:\n",
    "        ls.append(l1[i]) \n",
    "        m=l1[i]\n",
    "    elif l1[i]<l1[i-1] and l1[i]>m:\n",
    "         ls.append(m)\n",
    "    else:\n",
    "        ls.append(m)\n",
    "        \n",
    "            \n",
    "print(ls)"
   ]
  },
  {
   "cell_type": "code",
   "execution_count": 2,
   "metadata": {},
   "outputs": [],
   "source": [
    "def unique_names(names1, names2):\n",
    "    ls=[]\n",
    "#     for i in range(len(names1)):\n",
    "#         print(i)\n",
    "#         for j in range(len(names2)):\n",
    "#             print(j)\n",
    "#             if names1[i]==names2[j]:\n",
    "#                 ls.append(names1[i])\n",
    "#             else:\n",
    "#                 ls.append(names1[i])\n",
    "#     print(ls)\n",
    "            \n",
    "        \n",
    "#     return ls\n",
    "    for j in range(len(names2)):\n",
    "        names1.append(names2[j])\n",
    "\n",
    "    #print(names1)\n",
    "    for i in range(len(names1)):\n",
    "        for j in range(i+1,len(names1)):\n",
    "            if names1[i]!=names1[j]:\n",
    "                 ls.append(names1[i])\n",
    "            else:\n",
    "                j+=1\n",
    "               \n",
    "    print(ls)\n",
    "                       \n",
    "                       \n",
    "                   \n",
    "\n",
    "if __name__ == \"__main__\":\n",
    "    names1 = [\"Ava\", \"Emma\", \"Olivia\"]\n",
    "    names2 = [\"Olivia\", \"Sophia\", \"Emma\"]\n",
    "#     print(unique_names(names1, names2)) # should print Ava, Emma, Olivia, Sophia"
   ]
  },
  {
   "cell_type": "code",
   "execution_count": 90,
   "metadata": {},
   "outputs": [
    {
     "name": "stdout",
     "output_type": "stream",
     "text": [
      "['Ava', 'Ava', 'Ava', 'Ava', 'Ava', 'Emma', 'Emma', 'Emma', 'Olivia', 'Olivia', 'Olivia', 'Olivia', 'Sophia']\n"
     ]
    }
   ],
   "source": [
    "unique_names(names1, names2)"
   ]
  },
  {
   "cell_type": "code",
   "execution_count": 78,
   "metadata": {},
   "outputs": [],
   "source": [
    "import string"
   ]
  },
  {
   "cell_type": "code",
   "execution_count": 92,
   "metadata": {},
   "outputs": [
    {
     "data": {
      "text/plain": [
       "{'Ava', 'Emma', 'Olivia', 'Sophia'}"
      ]
     },
     "execution_count": 92,
     "metadata": {},
     "output_type": "execute_result"
    }
   ],
   "source": [
    "l1=set(names1)\n",
    "l1"
   ]
  },
  {
   "cell_type": "code",
   "execution_count": 93,
   "metadata": {},
   "outputs": [
    {
     "data": {
      "text/plain": [
       "{'Emma', 'Olivia', 'Sophia'}"
      ]
     },
     "execution_count": 93,
     "metadata": {},
     "output_type": "execute_result"
    }
   ],
   "source": [
    "l2=set(names2)\n",
    "l2"
   ]
  },
  {
   "cell_type": "code",
   "execution_count": 98,
   "metadata": {},
   "outputs": [],
   "source": [
    "n=list(l1-l2)"
   ]
  },
  {
   "cell_type": "code",
   "execution_count": 101,
   "metadata": {},
   "outputs": [
    {
     "data": {
      "text/plain": [
       "['Ava', 'Emma', 'Olivia', 'Sophia']"
      ]
     },
     "execution_count": 101,
     "metadata": {},
     "output_type": "execute_result"
    }
   ],
   "source": [
    "n+list(l2)"
   ]
  },
  {
   "cell_type": "code",
   "execution_count": 103,
   "metadata": {},
   "outputs": [
    {
     "ename": "AttributeError",
     "evalue": "'list' object has no attribute 'merge'",
     "output_type": "error",
     "traceback": [
      "\u001b[1;31m---------------------------------------------------------------------------\u001b[0m",
      "\u001b[1;31mAttributeError\u001b[0m                            Traceback (most recent call last)",
      "\u001b[1;32m<ipython-input-103-9c2d13f0a3a7>\u001b[0m in \u001b[0;36m<module>\u001b[1;34m\u001b[0m\n\u001b[1;32m----> 1\u001b[1;33m \u001b[0mls\u001b[0m\u001b[1;33m.\u001b[0m\u001b[0mmerge\u001b[0m\u001b[1;33m(\u001b[0m\u001b[0mnames1\u001b[0m\u001b[1;33m,\u001b[0m\u001b[0mnames2\u001b[0m\u001b[1;33m)\u001b[0m\u001b[1;33m\u001b[0m\u001b[1;33m\u001b[0m\u001b[0m\n\u001b[0m",
      "\u001b[1;31mAttributeError\u001b[0m: 'list' object has no attribute 'merge'"
     ]
    }
   ],
   "source": [
    "merge(names1,names2)"
   ]
  },
  {
   "cell_type": "code",
   "execution_count": null,
   "metadata": {},
   "outputs": [
    {
     "name": "stdout",
     "output_type": "stream",
     "text": [
      "['Ava', 'Emma', 'Olivia', ['Sophia', 'Emma'], ['Sophia', 'Emma']]\n"
     ]
    }
   ],
   "source": [
    "for i in names1:\n",
    "    for j in names2:\n",
    "        if i==j:\n",
    "            names2.remove(j)\n",
    "        else:\n",
    "            names1.append(names2)       \n",
    "                  \n",
    "            break\n",
    "        print(names1)\n",
    "            "
   ]
  },
  {
   "cell_type": "code",
   "execution_count": 5,
   "metadata": {},
   "outputs": [],
   "source": [
    "n1 = [\"Ava\", \"Emma\", \"Olivia\",\"meenu\"]\n",
    "n2 = [\"Olivia\", \"Sophia\", \"Emma\",\"shashank\"]"
   ]
  },
  {
   "cell_type": "code",
   "execution_count": 6,
   "metadata": {},
   "outputs": [
    {
     "name": "stdout",
     "output_type": "stream",
     "text": [
      "['Olivia', 'Sophia', 'Emma', 'shashank', 'Ava', 'meenu']\n"
     ]
    }
   ],
   "source": [
    "for i in n1:\n",
    "    if i not in n2:\n",
    "        n2.append(i)\n",
    "print(n2)"
   ]
  },
  {
   "cell_type": "code",
   "execution_count": null,
   "metadata": {},
   "outputs": [],
   "source": []
  }
 ],
 "metadata": {
  "kernelspec": {
   "display_name": "Python 3",
   "language": "python",
   "name": "python3"
  },
  "language_info": {
   "codemirror_mode": {
    "name": "ipython",
    "version": 3
   },
   "file_extension": ".py",
   "mimetype": "text/x-python",
   "name": "python",
   "nbconvert_exporter": "python",
   "pygments_lexer": "ipython3",
   "version": "3.7.3"
  }
 },
 "nbformat": 4,
 "nbformat_minor": 2
}
